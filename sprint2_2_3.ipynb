{
  "nbformat": 4,
  "nbformat_minor": 0,
  "metadata": {
    "colab": {
      "provenance": [],
      "mount_file_id": "1ljw8ubRizAGdo7dlJ5_9VIleENuYKXMn",
      "authorship_tag": "ABX9TyNqRjpogqlYHCUhSdeQ85pX",
      "include_colab_link": true
    },
    "kernelspec": {
      "name": "python3",
      "display_name": "Python 3"
    },
    "language_info": {
      "name": "python"
    }
  },
  "cells": [
    {
      "cell_type": "markdown",
      "metadata": {
        "id": "view-in-github",
        "colab_type": "text"
      },
      "source": [
        "<a href=\"https://colab.research.google.com/github/dani1974/MVP_Daniela_rosas/blob/main/sprint2_2_3.ipynb\" target=\"_parent\"><img src=\"https://colab.research.google.com/assets/colab-badge.svg\" alt=\"Open In Colab\"/></a>"
      ]
    },
    {
      "cell_type": "code",
      "source": [],
      "metadata": {
        "id": "GGnDhfpGCdvv"
      },
      "execution_count": null,
      "outputs": []
    },
    {
      "cell_type": "code",
      "execution_count": 1,
      "metadata": {
        "colab": {
          "base_uri": "https://localhost:8080/",
          "height": 373
        },
        "id": "rvqPmBH2CMnZ",
        "outputId": "f6bd91c9-b5ed-4eb9-b9b8-ae154f4516f1"
      },
      "outputs": [
        {
          "output_type": "error",
          "ename": "ModuleNotFoundError",
          "evalue": "ignored",
          "traceback": [
            "\u001b[0;31m---------------------------------------------------------------------------\u001b[0m",
            "\u001b[0;31mModuleNotFoundError\u001b[0m                       Traceback (most recent call last)",
            "\u001b[0;32m<ipython-input-1-d4fb9a872dbf>\u001b[0m in \u001b[0;36m<cell line: 4>\u001b[0;34m()\u001b[0m\n\u001b[1;32m      2\u001b[0m \u001b[0;31m#Para estudar as Redes Long Short Term Memory vamos precisar de séries temporais\u001b[0m\u001b[0;34m\u001b[0m\u001b[0;34m\u001b[0m\u001b[0m\n\u001b[1;32m      3\u001b[0m \u001b[0;34m\u001b[0m\u001b[0m\n\u001b[0;32m----> 4\u001b[0;31m \u001b[0;32mfrom\u001b[0m \u001b[0mdatapackage\u001b[0m \u001b[0;32mimport\u001b[0m \u001b[0mPackage\u001b[0m \u001b[0;31m# a biblioteca datapackage oferece uma coleção de dados que podem ser baixados diretamente da internet\u001b[0m\u001b[0;34m\u001b[0m\u001b[0;34m\u001b[0m\u001b[0m\n\u001b[0m\u001b[1;32m      5\u001b[0m \u001b[0;34m\u001b[0m\u001b[0m\n\u001b[1;32m      6\u001b[0m \u001b[0mpackage\u001b[0m \u001b[0;34m=\u001b[0m \u001b[0mPackage\u001b[0m\u001b[0;34m(\u001b[0m\u001b[0;34m'https://datahub.io/core/global-temp/datapackage.json'\u001b[0m\u001b[0;34m)\u001b[0m \u001b[0;31m# vamos carregar a base com as médias de temperatura global ao longo dos últimos anos\u001b[0m\u001b[0;34m\u001b[0m\u001b[0;34m\u001b[0m\u001b[0m\n",
            "\u001b[0;31mModuleNotFoundError\u001b[0m: No module named 'datapackage'",
            "",
            "\u001b[0;31m---------------------------------------------------------------------------\u001b[0;32m\nNOTE: If your import is failing due to a missing package, you can\nmanually install dependencies using either !pip or !apt.\n\nTo view examples of installing some common dependencies, click the\n\"Open Examples\" button below.\n\u001b[0;31m---------------------------------------------------------------------------\u001b[0m\n"
          ],
          "errorDetails": {
            "actions": [
              {
                "action": "open_url",
                "actionText": "Open Examples",
                "url": "/notebooks/snippets/importing_libraries.ipynb"
              }
            ]
          }
        }
      ],
      "source": [
        "#Vamos ver como funcionam as LSTM\n",
        "#Para estudar as Redes Long Short Term Memory vamos precisar de séries temporais\n",
        "\n",
        "from datapackage import Package # a biblioteca datapackage oferece uma coleção de dados que podem ser baixados diretamente da internet\n",
        "\n",
        "package = Package('https://datahub.io/core/global-temp/datapackage.json') # vamos carregar a base com as médias de temperatura global ao longo dos últimos anos\n",
        "\n",
        "for resource in package.resources: # de todos os recursos disponíveis no pacote autor, informações, etc\n",
        "    if resource.descriptor['datahub']['type'] == 'derived/csv': #vamos selecionar o arquivo CSV para carregá-lo\n",
        "        data = resource.read()\n",
        "\n",
        "data_gcag = data[0:len(data):2][::-1]"
      ]
    }
  ]
}